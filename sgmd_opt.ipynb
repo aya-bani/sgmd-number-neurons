{
  "nbformat": 4,
  "nbformat_minor": 0,
  "metadata": {
    "colab": {
      "provenance": [],
      "authorship_tag": "ABX9TyMTyN9NalJ6svykJ8zoYH18",
      "include_colab_link": true
    },
    "kernelspec": {
      "name": "python3",
      "display_name": "Python 3"
    },
    "language_info": {
      "name": "python"
    }
  },
  "cells": [
    {
      "cell_type": "markdown",
      "metadata": {
        "id": "view-in-github",
        "colab_type": "text"
      },
      "source": [
        "<a href=\"https://colab.research.google.com/github/aya-bani/sgmd-number-neurons/blob/main/sgmd_opt.ipynb\" target=\"_parent\"><img src=\"https://colab.research.google.com/assets/colab-badge.svg\" alt=\"Open In Colab\"/></a>"
      ]
    },
    {
      "cell_type": "code",
      "source": [],
      "metadata": {
        "id": "9Ax4zlvF7OIe"
      },
      "execution_count": null,
      "outputs": []
    },
    {
      "cell_type": "markdown",
      "source": [
        "Test multiple hidden-layer setups (1, 2, 3, or 4 hidden layers with different neurons).\n",
        "\n",
        "Pick the “best” configuration based on the lowest validation MSE.\n",
        "\n",
        "Compare activation functions\n",
        "\n",
        "Take that best architecture and re-train it using sigmoid, tanh, and ReLU activations.\n",
        "\n",
        "Compare which activation function gives the best overall metrics (MSE, MAE, R²)."
      ],
      "metadata": {
        "id": "2n9YkUyf7L3N"
      }
    },
    {
      "cell_type": "code",
      "execution_count": null,
      "metadata": {
        "colab": {
          "base_uri": "https://localhost:8080/"
        },
        "id": "D6TUoyGPzB7F",
        "outputId": "c4a3b887-9bb7-48c1-9d49-5eb4c19c5e42"
      },
      "outputs": [
        {
          "output_type": "stream",
          "name": "stdout",
          "text": [
            "Drive already mounted at /content/drive; to attempt to forcibly remount, call drive.mount(\"/content/drive\", force_remount=True).\n"
          ]
        }
      ],
      "source": [
        "from google.colab import drive\n",
        "drive.mount('/content/drive')"
      ]
    },
    {
      "cell_type": "code",
      "source": [
        "import numpy as np, pandas as pd, tensorflow as tf, random\n",
        "from tensorflow.keras.models import Sequential\n",
        "from tensorflow.keras.layers import Dense\n",
        "from tensorflow.keras.callbacks import EarlyStopping\n",
        "from tensorflow.keras import backend as K\n",
        "from sklearn.model_selection import train_test_split\n",
        "from sklearn.preprocessing import MinMaxScaler\n",
        "from sklearn.metrics import mean_squared_error, mean_absolute_error, r2_score\n",
        "from itertools import product\n",
        "from tensorflow.keras.optimizers import Adam, RMSprop, SGD\n"
      ],
      "metadata": {
        "id": "v6Ay6BcgzS3u"
      },
      "execution_count": null,
      "outputs": []
    },
    {
      "cell_type": "code",
      "source": [
        "def set_seeds(seed=42):\n",
        "    np.random.seed(seed); random.seed(seed); tf.random.set_seed(seed)"
      ],
      "metadata": {
        "id": "6nXucCbKzcEv"
      },
      "execution_count": null,
      "outputs": []
    },
    {
      "cell_type": "code",
      "source": [
        "data = pd.read_csv(\"/content/drive/MyDrive/projet mit/data.csv\", encoding=\"latin1\")\n",
        "X = data[[\"Tf_in\",\"Ua\",\"Uw\"]].values\n",
        "y = data[\"Y\"].values.reshape(-1,1)\n",
        "\n",
        "scaler_X = MinMaxScaler()\n",
        "Xs = scaler_X.fit_transform(X)"
      ],
      "metadata": {
        "id": "qe954rO_zesG"
      },
      "execution_count": null,
      "outputs": []
    },
    {
      "cell_type": "code",
      "source": [
        "scaler_y = MinMaxScaler(feature_range=(0.2, 0.8))\n",
        "ys = scaler_y.fit_transform(y)\n",
        "\n",
        "X_train, X_temp, y_train, y_temp = train_test_split(Xs, ys, test_size=0.30, random_state=42)\n",
        "X_val,   X_test, y_val,   y_test = train_test_split(X_temp, y_temp, test_size=0.50, random_state=42)"
      ],
      "metadata": {
        "id": "oJlPxWBPzoef"
      },
      "execution_count": null,
      "outputs": []
    },
    {
      "cell_type": "code",
      "source": [
        "def build_model(layers, hidden_act=\"sigmoid\", out_act=\"sigmoid\"):\n",
        "    \"\"\"\n",
        "    layers: list of neuron counts, e.g. [12,8] = 2 hidden layers\n",
        "    hidden_act: activation for hidden layers\n",
        "    out_act: activation for output (sigmoid since Y in [0.2,0.8])\n",
        "    \"\"\"\n",
        "    model = Sequential()\n",
        "    # First hidden layer\n",
        "    model.add(Dense(layers[0], input_dim=3, activation=hidden_act))\n",
        "    # Additional hidden layers\n",
        "    for n in layers[1:]:\n",
        "        model.add(Dense(n, activation=hidden_act))\n",
        "    # Output layer (1 neuron, regression)\n",
        "    model.add(Dense(1, activation=out_act))\n",
        "    model.compile(optimizer='adam', loss='mse', metrics=['mae'])\n",
        "    return model"
      ],
      "metadata": {
        "id": "ecd2y7QL1z2I"
      },
      "execution_count": null,
      "outputs": []
    },
    {
      "cell_type": "code",
      "source": [
        "def evaluate_model(model, X, y):\n",
        "    \"\"\"Return MSE, MAE, R² in original Y units.\"\"\"\n",
        "    y_pred = model.predict(X, verbose=0)\n",
        "    y_true = scaler_y.inverse_transform(y)\n",
        "    y_pred_inv = scaler_y.inverse_transform(y_pred)\n",
        "    return (\n",
        "        mean_squared_error(y_true, y_pred_inv),\n",
        "        mean_absolute_error(y_true, y_pred_inv),\n",
        "        r2_score(y_true, y_pred_inv)\n",
        "    )"
      ],
      "metadata": {
        "id": "6Ch-e1CL2PV3"
      },
      "execution_count": null,
      "outputs": []
    },
    {
      "cell_type": "code",
      "source": [
        "def sweep_layers(layer_grid, hidden_act=\"sigmoid\"):\n",
        "    results = []\n",
        "    for layers in layer_grid:\n",
        "        set_seeds(42); K.clear_session()\n",
        "        model = build_model(layers, hidden_act=hidden_act)\n",
        "\n",
        "        es = EarlyStopping(monitor='val_loss', patience=20, restore_best_weights=True)\n",
        "        hist = model.fit(X_train, y_train,\n",
        "                         validation_data=(X_val, y_val),\n",
        "                         epochs=1000, batch_size=8, verbose=0,\n",
        "                         callbacks=[es])\n",
        "\n",
        "        # Metrics\n",
        "        tr = evaluate_model(model, X_train, y_train)\n",
        "        va = evaluate_model(model, X_val,   y_val)\n",
        "        te = evaluate_model(model, X_test,  y_test)\n",
        "\n",
        "        results.append({\n",
        "            \"layers\": layers,\n",
        "            \"hidden_act\": hidden_act,\n",
        "            \"train_mse\": tr[0], \"train_mae\": tr[1], \"train_r2\": tr[2],\n",
        "            \"val_mse\": va[0],   \"val_mae\": va[1],   \"val_r2\": va[2],\n",
        "            \"test_mse\": te[0],  \"test_mae\": te[1],  \"test_r2\": te[2],\n",
        "            \"epochs_used\": len(hist.history['loss'])\n",
        "        })\n",
        "    return pd.DataFrame(results)"
      ],
      "metadata": {
        "id": "0LzL_JhF2VFm"
      },
      "execution_count": null,
      "outputs": []
    },
    {
      "cell_type": "markdown",
      "source": [
        "8;df1 = sweep_layers(grid_1, hidden_act=\"sigmoid\")\n",
        "df2 = sweep_layers(grid_2, hidden_act=\"sigmoid\")\n",
        "df3 = sweep_layers(grid_3, hidden_act=\"sigmoid\")\n",
        "df4 = sweep_layers(grid_4, hidden_act=\"sigmoid\")\n",
        "\n",
        "all_df = pd.concat([df1,df2,df3,df4], ignore_index=True)"
      ],
      "metadata": {
        "id": "9acgfnsD_7ke"
      }
    },
    {
      "cell_type": "code",
      "source": [
        "# 7. Define search grids\n",
        "# ============================\n",
        "grid_1 = [[n] for n in range(5, 21, 3)]                 # 1 hidden layer\n",
        "grid_2 = [[n1,n2] for n1 in [20,15,10] for n2 in [15,10,5]]\n",
        "grid_3 = [[15,10,5], [12,8,6], [20,15,10]]\n",
        "grid_4 = [[20,15,10,5], [15,12,8,5]]\n",
        "\n",
        "# ============================\n",
        "# 8. Run sweeps (sigmoid hidden as baseline)\n",
        "# ============================\n",
        "\n",
        "df1 = sweep_layers(grid_1, hidden_act=\"sigmoid\")\n",
        "df2 = sweep_layers(grid_2, hidden_act=\"sigmoid\")\n",
        "df3 = sweep_layers(grid_3, hidden_act=\"sigmoid\")\n",
        "df4 = sweep_layers(grid_4, hidden_act=\"sigmoid\")\n",
        "\n",
        "all_df = pd.concat([df1,df2,df3,df4], ignore_index=True)\n",
        "\n",
        "# Find best config by lowest val MSE\n",
        "best_row = all_df.loc[all_df[\"val_mse\"].idxmin()]\n",
        "print(\"\\n=== Best architecture (hidden layers + neurons) ===\")\n",
        "print(best_row[[\"layers\",\"hidden_act\",\"val_mse\",\"val_mae\",\"val_r2\",\"test_mse\",\"test_mae\",\"test_r2\"]])\n",
        "\n",
        "\n"
      ],
      "metadata": {
        "colab": {
          "base_uri": "https://localhost:8080/"
        },
        "id": "_r_p3zKk2Zym",
        "outputId": "661dc017-6f09-4763-a86a-733b24c6257d"
      },
      "execution_count": null,
      "outputs": [
        {
          "output_type": "stream",
          "name": "stderr",
          "text": [
            "/usr/local/lib/python3.12/dist-packages/keras/src/layers/core/dense.py:93: UserWarning: Do not pass an `input_shape`/`input_dim` argument to a layer. When using Sequential models, prefer using an `Input(shape)` object as the first layer in the model instead.\n",
            "  super().__init__(activity_regularizer=activity_regularizer, **kwargs)\n",
            "/usr/local/lib/python3.12/dist-packages/keras/src/layers/core/dense.py:93: UserWarning: Do not pass an `input_shape`/`input_dim` argument to a layer. When using Sequential models, prefer using an `Input(shape)` object as the first layer in the model instead.\n",
            "  super().__init__(activity_regularizer=activity_regularizer, **kwargs)\n",
            "/usr/local/lib/python3.12/dist-packages/keras/src/layers/core/dense.py:93: UserWarning: Do not pass an `input_shape`/`input_dim` argument to a layer. When using Sequential models, prefer using an `Input(shape)` object as the first layer in the model instead.\n",
            "  super().__init__(activity_regularizer=activity_regularizer, **kwargs)\n",
            "WARNING:tensorflow:5 out of the last 9 calls to <function TensorFlowTrainer.make_predict_function.<locals>.one_step_on_data_distributed at 0x7e37813bdda0> triggered tf.function retracing. Tracing is expensive and the excessive number of tracings could be due to (1) creating @tf.function repeatedly in a loop, (2) passing tensors with different shapes, (3) passing Python objects instead of tensors. For (1), please define your @tf.function outside of the loop. For (2), @tf.function has reduce_retracing=True option that can avoid unnecessary retracing. For (3), please refer to https://www.tensorflow.org/guide/function#controlling_retracing and https://www.tensorflow.org/api_docs/python/tf/function for  more details.\n",
            "WARNING:tensorflow:6 out of the last 10 calls to <function TensorFlowTrainer.make_predict_function.<locals>.one_step_on_data_distributed at 0x7e37813bdda0> triggered tf.function retracing. Tracing is expensive and the excessive number of tracings could be due to (1) creating @tf.function repeatedly in a loop, (2) passing tensors with different shapes, (3) passing Python objects instead of tensors. For (1), please define your @tf.function outside of the loop. For (2), @tf.function has reduce_retracing=True option that can avoid unnecessary retracing. For (3), please refer to https://www.tensorflow.org/guide/function#controlling_retracing and https://www.tensorflow.org/api_docs/python/tf/function for  more details.\n",
            "/usr/local/lib/python3.12/dist-packages/keras/src/layers/core/dense.py:93: UserWarning: Do not pass an `input_shape`/`input_dim` argument to a layer. When using Sequential models, prefer using an `Input(shape)` object as the first layer in the model instead.\n",
            "  super().__init__(activity_regularizer=activity_regularizer, **kwargs)\n",
            "/usr/local/lib/python3.12/dist-packages/keras/src/layers/core/dense.py:93: UserWarning: Do not pass an `input_shape`/`input_dim` argument to a layer. When using Sequential models, prefer using an `Input(shape)` object as the first layer in the model instead.\n",
            "  super().__init__(activity_regularizer=activity_regularizer, **kwargs)\n",
            "/usr/local/lib/python3.12/dist-packages/keras/src/layers/core/dense.py:93: UserWarning: Do not pass an `input_shape`/`input_dim` argument to a layer. When using Sequential models, prefer using an `Input(shape)` object as the first layer in the model instead.\n",
            "  super().__init__(activity_regularizer=activity_regularizer, **kwargs)\n",
            "/usr/local/lib/python3.12/dist-packages/keras/src/layers/core/dense.py:93: UserWarning: Do not pass an `input_shape`/`input_dim` argument to a layer. When using Sequential models, prefer using an `Input(shape)` object as the first layer in the model instead.\n",
            "  super().__init__(activity_regularizer=activity_regularizer, **kwargs)\n",
            "/usr/local/lib/python3.12/dist-packages/keras/src/layers/core/dense.py:93: UserWarning: Do not pass an `input_shape`/`input_dim` argument to a layer. When using Sequential models, prefer using an `Input(shape)` object as the first layer in the model instead.\n",
            "  super().__init__(activity_regularizer=activity_regularizer, **kwargs)\n",
            "/usr/local/lib/python3.12/dist-packages/keras/src/layers/core/dense.py:93: UserWarning: Do not pass an `input_shape`/`input_dim` argument to a layer. When using Sequential models, prefer using an `Input(shape)` object as the first layer in the model instead.\n",
            "  super().__init__(activity_regularizer=activity_regularizer, **kwargs)\n",
            "/usr/local/lib/python3.12/dist-packages/keras/src/layers/core/dense.py:93: UserWarning: Do not pass an `input_shape`/`input_dim` argument to a layer. When using Sequential models, prefer using an `Input(shape)` object as the first layer in the model instead.\n",
            "  super().__init__(activity_regularizer=activity_regularizer, **kwargs)\n",
            "/usr/local/lib/python3.12/dist-packages/keras/src/layers/core/dense.py:93: UserWarning: Do not pass an `input_shape`/`input_dim` argument to a layer. When using Sequential models, prefer using an `Input(shape)` object as the first layer in the model instead.\n",
            "  super().__init__(activity_regularizer=activity_regularizer, **kwargs)\n",
            "/usr/local/lib/python3.12/dist-packages/keras/src/layers/core/dense.py:93: UserWarning: Do not pass an `input_shape`/`input_dim` argument to a layer. When using Sequential models, prefer using an `Input(shape)` object as the first layer in the model instead.\n",
            "  super().__init__(activity_regularizer=activity_regularizer, **kwargs)\n",
            "/usr/local/lib/python3.12/dist-packages/keras/src/layers/core/dense.py:93: UserWarning: Do not pass an `input_shape`/`input_dim` argument to a layer. When using Sequential models, prefer using an `Input(shape)` object as the first layer in the model instead.\n",
            "  super().__init__(activity_regularizer=activity_regularizer, **kwargs)\n",
            "/usr/local/lib/python3.12/dist-packages/keras/src/layers/core/dense.py:93: UserWarning: Do not pass an `input_shape`/`input_dim` argument to a layer. When using Sequential models, prefer using an `Input(shape)` object as the first layer in the model instead.\n",
            "  super().__init__(activity_regularizer=activity_regularizer, **kwargs)\n",
            "/usr/local/lib/python3.12/dist-packages/keras/src/layers/core/dense.py:93: UserWarning: Do not pass an `input_shape`/`input_dim` argument to a layer. When using Sequential models, prefer using an `Input(shape)` object as the first layer in the model instead.\n",
            "  super().__init__(activity_regularizer=activity_regularizer, **kwargs)\n",
            "/usr/local/lib/python3.12/dist-packages/keras/src/layers/core/dense.py:93: UserWarning: Do not pass an `input_shape`/`input_dim` argument to a layer. When using Sequential models, prefer using an `Input(shape)` object as the first layer in the model instead.\n",
            "  super().__init__(activity_regularizer=activity_regularizer, **kwargs)\n",
            "/usr/local/lib/python3.12/dist-packages/keras/src/layers/core/dense.py:93: UserWarning: Do not pass an `input_shape`/`input_dim` argument to a layer. When using Sequential models, prefer using an `Input(shape)` object as the first layer in the model instead.\n",
            "  super().__init__(activity_regularizer=activity_regularizer, **kwargs)\n",
            "/usr/local/lib/python3.12/dist-packages/keras/src/layers/core/dense.py:93: UserWarning: Do not pass an `input_shape`/`input_dim` argument to a layer. When using Sequential models, prefer using an `Input(shape)` object as the first layer in the model instead.\n",
            "  super().__init__(activity_regularizer=activity_regularizer, **kwargs)\n",
            "/usr/local/lib/python3.12/dist-packages/keras/src/layers/core/dense.py:93: UserWarning: Do not pass an `input_shape`/`input_dim` argument to a layer. When using Sequential models, prefer using an `Input(shape)` object as the first layer in the model instead.\n",
            "  super().__init__(activity_regularizer=activity_regularizer, **kwargs)\n",
            "/usr/local/lib/python3.12/dist-packages/keras/src/layers/core/dense.py:93: UserWarning: Do not pass an `input_shape`/`input_dim` argument to a layer. When using Sequential models, prefer using an `Input(shape)` object as the first layer in the model instead.\n",
            "  super().__init__(activity_regularizer=activity_regularizer, **kwargs)\n"
          ]
        },
        {
          "output_type": "stream",
          "name": "stdout",
          "text": [
            "\n",
            "=== Best architecture (hidden layers + neurons) ===\n",
            "layers         [10, 5]\n",
            "hidden_act     sigmoid\n",
            "val_mse       0.012836\n",
            "val_mae       0.075279\n",
            "val_r2        0.562207\n",
            "test_mse      0.003474\n",
            "test_mae      0.049921\n",
            "test_r2        0.88916\n",
            "Name: 14, dtype: object\n"
          ]
        }
      ]
    },
    {
      "cell_type": "code",
      "source": [
        "# 8b. Plot validation MSE vs neurons for 1 hidden layer\n",
        "# ============================\n",
        "import matplotlib.pyplot as plt # Import matplotlib\n",
        "\n",
        "res_df_sorted = df1.sort_values(\"layers\")  # only 1-layer models\n",
        "min_idx = res_df_sorted[\"val_mse\"].idxmin()\n",
        "min_neurons = res_df_sorted.loc[min_idx, \"layers\"][0]\n",
        "min_val_mse = res_df_sorted.loc[min_idx, \"val_mse\"]\n",
        "\n",
        "print(f\"\\nBest number of neurons for 1 hidden layer = {min_neurons}, Validation MSE = {min_val_mse:.5f}\")\n",
        "\n",
        "plt.figure(figsize=(12,6))\n",
        "bars = plt.bar([l[0] for l in res_df_sorted[\"layers\"]], res_df_sorted[\"val_mse\"], color=\"skyblue\")\n",
        "bars[list(res_df_sorted.index).index(min_idx)].set_color(\"red\")\n",
        "plt.xlabel(\"Number of Neurons (1–20)\")\n",
        "plt.ylabel(\"Validation MSE\")\n",
        "plt.title(\"Validation MSE vs Neurons (1 hidden layer)\")\n",
        "plt.show()"
      ],
      "metadata": {
        "colab": {
          "base_uri": "https://localhost:8080/",
          "height": 599
        },
        "id": "pR5r2IftADDd",
        "outputId": "c7d61378-6fb7-4cd9-eec0-f98afc0cb24f"
      },
      "execution_count": null,
      "outputs": [
        {
          "output_type": "stream",
          "name": "stdout",
          "text": [
            "\n",
            "Best number of neurons for 1 hidden layer = 11, Validation MSE = 0.02526\n"
          ]
        },
        {
          "output_type": "display_data",
          "data": {
            "text/plain": [
              "<Figure size 1200x600 with 1 Axes>"
            ],
            "image/png": "[encoded data removed]"
          },
          "metadata": {}
        }
      ]
    },
    {
      "cell_type": "code",
      "source": [
        "best_layers = best_row[\"layers\"]\n",
        "act_results = []\n",
        "for act in [\"sigmoid\",\"tanh\",\"relu\"]:\n",
        "    df_act = sweep_layers([best_layers], hidden_act=act)\n",
        "    act_results.append(df_act.iloc[0])\n",
        "\n",
        "act_df = pd.DataFrame(act_results)\n",
        "print(\"\\n=== Activation comparison on best architecture ===\")\n",
        "print(act_df[[\"hidden_act\",\"val_mse\",\"val_mae\",\"val_r2\",\"test_mse\",\"test_mae\",\"test_r2\"]])"
      ],
      "metadata": {
        "colab": {
          "base_uri": "https://localhost:8080/"
        },
        "id": "Wq35TRXmAF6N",
        "outputId": "9264eca2-02af-4682-805e-ea5150e101ae"
      },
      "execution_count": null,
      "outputs": [
        {
          "output_type": "stream",
          "name": "stderr",
          "text": [
            "/usr/local/lib/python3.12/dist-packages/keras/src/layers/core/dense.py:93: UserWarning: Do not pass an `input_shape`/`input_dim` argument to a layer. When using Sequential models, prefer using an `Input(shape)` object as the first layer in the model instead.\n",
            "  super().__init__(activity_regularizer=activity_regularizer, **kwargs)\n",
            "/usr/local/lib/python3.12/dist-packages/keras/src/layers/core/dense.py:93: UserWarning: Do not pass an `input_shape`/`input_dim` argument to a layer. When using Sequential models, prefer using an `Input(shape)` object as the first layer in the model instead.\n",
            "  super().__init__(activity_regularizer=activity_regularizer, **kwargs)\n",
            "/usr/local/lib/python3.12/dist-packages/keras/src/layers/core/dense.py:93: UserWarning: Do not pass an `input_shape`/`input_dim` argument to a layer. When using Sequential models, prefer using an `Input(shape)` object as the first layer in the model instead.\n",
            "  super().__init__(activity_regularizer=activity_regularizer, **kwargs)\n"
          ]
        },
        {
          "output_type": "stream",
          "name": "stdout",
          "text": [
            "\n",
            "=== Activation comparison on best architecture ===\n",
            "  hidden_act   val_mse   val_mae    val_r2  test_mse  test_mae   test_r2\n",
            "0    sigmoid  0.012836  0.075279  0.562207  0.003474  0.049921  0.889160\n",
            "0       tanh  0.010016  0.068331  0.658411  0.004834  0.060307  0.845768\n",
            "0       relu  0.012494  0.073619  0.573877  0.011113  0.098212  0.645416\n"
          ]
        }
      ]
    },
    {
      "cell_type": "code",
      "source": [
        "best_row = all_df.loc[all_df[\"val_mse\"].idxmin()]\n",
        "print(\"\\n=== Best architecture ===\")\n",
        "print(best_row[[\"layers\",\"hidden_act\",\"val_mse\",\"val_mae\",\"val_r2\",\"test_mse\",\"test_mae\",\"test_r2\"]])\n"
      ],
      "metadata": {
        "colab": {
          "base_uri": "https://localhost:8080/"
        },
        "id": "N7lVpMlI2cfe",
        "outputId": "60753553-2783-4e2a-8e99-696802debbdd"
      },
      "execution_count": null,
      "outputs": [
        {
          "output_type": "stream",
          "name": "stdout",
          "text": [
            "\n",
            "=== Best architecture ===\n",
            "layers         [10, 5]\n",
            "hidden_act     sigmoid\n",
            "val_mse       0.012836\n",
            "val_mae       0.075279\n",
            "val_r2        0.562207\n",
            "test_mse      0.003474\n",
            "test_mae      0.049921\n",
            "test_r2        0.88916\n",
            "Name: 14, dtype: object\n"
          ]
        }
      ]
    },
    {
      "cell_type": "markdown",
      "source": [
        "best_layers = best_row[\"layers\"]\n",
        "act_results = []\n",
        "for act in [\"sigmoid\",\"tanh\",\"relu\"]:\n",
        "    df_act = sweep_layers([best_layers], hidden_act=act)\n",
        "    act_results.append(df_act.iloc[0])\n",
        "\n",
        "act_df = pd.DataFrame(act_results)\n",
        "print(\"\\n=== Activation comparison on best architecture ===\")\n",
        "print(act_df[[\"hidden_act\",\"val_mse\",\"val_mae\",\"val_r2\",\"test_mse\",\"test_mae\",\"test_r2\"]])\n"
      ],
      "metadata": {
        "id": "tTe5HEgMGSLk"
      }
    },
    {
      "cell_type": "markdown",
      "source": [
        "“After testing multiple architectures (1–4 hidden layers, different neuron counts), the configuration with 2 hidden layers [10,5] achieved the lowest validation MSE and the highest test R² (0.889). This indicates that the network can generalize well, so this architecture is chosen as the final model for SGMD prediction.”"
      ],
      "metadata": {
        "id": "hVIzo4ReEOYc"
      }
    },
    {
      "cell_type": "code",
      "source": [],
      "metadata": {
        "id": "uaNacR6MEOKc"
      },
      "execution_count": null,
      "outputs": []
    },
    {
      "cell_type": "markdown",
      "source": [],
      "metadata": {
        "id": "XqSVGkkk677u"
      }
    }
  ]
}